{
 "cells": [
  {
   "cell_type": "code",
   "execution_count": 2,
   "id": "d5f3eea2",
   "metadata": {},
   "outputs": [
    {
     "name": "stdout",
     "output_type": "stream",
     "text": [
      "Requirement already satisfied: requests in ./lib/python3.8/site-packages (2.27.1)\n",
      "Requirement already satisfied: charset-normalizer~=2.0.0; python_version >= \"3\" in ./lib/python3.8/site-packages (from requests) (2.0.11)\n",
      "Requirement already satisfied: idna<4,>=2.5; python_version >= \"3\" in ./lib/python3.8/site-packages (from requests) (3.3)\n",
      "Requirement already satisfied: certifi>=2017.4.17 in ./lib/python3.8/site-packages (from requests) (2021.10.8)\n",
      "Requirement already satisfied: urllib3<1.27,>=1.21.1 in ./lib/python3.8/site-packages (from requests) (1.26.8)\n"
     ]
    }
   ],
   "source": [
    "! pip3 install requests"
   ]
  },
  {
   "cell_type": "code",
   "execution_count": 5,
   "id": "6e9de901",
   "metadata": {},
   "outputs": [],
   "source": [
    "import logging\n",
    "import requests\n",
    "from requests.auth import HTTPBasicAuth\n",
    "import json\n"
   ]
  },
  {
   "cell_type": "code",
   "execution_count": 4,
   "id": "ae087008",
   "metadata": {},
   "outputs": [],
   "source": [
    "logging.basicConfig(level=logging.INFO, format='%(name)s - %(levelname)s - %(message)s')"
   ]
  },
  {
   "cell_type": "code",
   "execution_count": 6,
   "id": "249b6aeb",
   "metadata": {},
   "outputs": [],
   "source": [
    "HOST = '192.168.1.101'\n",
    "USER = 'student'\n",
    "PASS = 'Meilab123'\n",
    "BASE_URL = f'http://{HOST}/restconf/api/running/'\n"
   ]
  },
  {
   "cell_type": "code",
   "execution_count": 7,
   "id": "6f70c43e",
   "metadata": {},
   "outputs": [
    {
     "name": "stdout",
     "output_type": "stream",
     "text": [
      "http://192.168.1.101/restconf/api/running/interfaces\n"
     ]
    }
   ],
   "source": [
    "interface_url = BASE_URL + 'interfaces'\n",
    "print(interface_url)"
   ]
  },
  {
   "cell_type": "code",
   "execution_count": 8,
   "id": "b977039c",
   "metadata": {},
   "outputs": [],
   "source": [
    "auth = HTTPBasicAuth(USER, PASS)\n",
    "headers = {'Accept': 'application/vnd.yang.data+json'}\n",
    "response = requests.get(interface_url, auth=auth, headers=headers)"
   ]
  },
  {
   "cell_type": "code",
   "execution_count": 9,
   "id": "e334f4a2",
   "metadata": {},
   "outputs": [
    {
     "data": {
      "text/plain": [
       "['__attrs__',\n",
       " '__bool__',\n",
       " '__class__',\n",
       " '__delattr__',\n",
       " '__dict__',\n",
       " '__dir__',\n",
       " '__doc__',\n",
       " '__enter__',\n",
       " '__eq__',\n",
       " '__exit__',\n",
       " '__format__',\n",
       " '__ge__',\n",
       " '__getattribute__',\n",
       " '__getstate__',\n",
       " '__gt__',\n",
       " '__hash__',\n",
       " '__init__',\n",
       " '__init_subclass__',\n",
       " '__iter__',\n",
       " '__le__',\n",
       " '__lt__',\n",
       " '__module__',\n",
       " '__ne__',\n",
       " '__new__',\n",
       " '__nonzero__',\n",
       " '__reduce__',\n",
       " '__reduce_ex__',\n",
       " '__repr__',\n",
       " '__setattr__',\n",
       " '__setstate__',\n",
       " '__sizeof__',\n",
       " '__str__',\n",
       " '__subclasshook__',\n",
       " '__weakref__',\n",
       " '_content',\n",
       " '_content_consumed',\n",
       " '_next',\n",
       " 'apparent_encoding',\n",
       " 'close',\n",
       " 'connection',\n",
       " 'content',\n",
       " 'cookies',\n",
       " 'elapsed',\n",
       " 'encoding',\n",
       " 'headers',\n",
       " 'history',\n",
       " 'is_permanent_redirect',\n",
       " 'is_redirect',\n",
       " 'iter_content',\n",
       " 'iter_lines',\n",
       " 'json',\n",
       " 'links',\n",
       " 'next',\n",
       " 'ok',\n",
       " 'raise_for_status',\n",
       " 'raw',\n",
       " 'reason',\n",
       " 'request',\n",
       " 'status_code',\n",
       " 'text',\n",
       " 'url']"
      ]
     },
     "execution_count": 9,
     "metadata": {},
     "output_type": "execute_result"
    }
   ],
   "source": [
    "dir(response)"
   ]
  },
  {
   "cell_type": "code",
   "execution_count": 19,
   "id": "a9483b86",
   "metadata": {},
   "outputs": [
    {
     "name": "stdout",
     "output_type": "stream",
     "text": [
      "{'ietf-interfaces:interfaces': {'interface': [{'name': 'GigabitEthernet1'}, {'name': 'GigabitEthernet2'}, {'name': 'GigabitEthernet3'}]}}\n"
     ]
    }
   ],
   "source": [
    "print(response.json())\n",
    "resp = response.json()"
   ]
  },
  {
   "cell_type": "code",
   "execution_count": 22,
   "id": "a0ec2590",
   "metadata": {},
   "outputs": [
    {
     "data": {
      "text/plain": [
       "3"
      ]
     },
     "execution_count": 22,
     "metadata": {},
     "output_type": "execute_result"
    }
   ],
   "source": [
    "len(resp['ietf-interfaces:interfaces']['interface'])"
   ]
  },
  {
   "cell_type": "code",
   "execution_count": 35,
   "id": "f35c17cb",
   "metadata": {},
   "outputs": [
    {
     "name": "stdout",
     "output_type": "stream",
     "text": [
      "http://192.168.1.101/restconf/api/running/interfaces/interface/GigabitEthernet1?shallow\n"
     ]
    }
   ],
   "source": [
    "g_01 = BASE_URL + 'interfaces/interface/GigabitEthernet1?shallow'\n",
    "print(g_01)"
   ]
  },
  {
   "cell_type": "code",
   "execution_count": 36,
   "id": "22da4def",
   "metadata": {},
   "outputs": [],
   "source": [
    "response = requests.get(g_01, auth=auth, headers=headers)\n",
    "res = response.json()"
   ]
  },
  {
   "cell_type": "code",
   "execution_count": 38,
   "id": "730d90dd",
   "metadata": {},
   "outputs": [
    {
     "name": "stdout",
     "output_type": "stream",
     "text": [
      "iana-if-type:ethernetCsmacd\n"
     ]
    }
   ],
   "source": [
    "print(res['ietf-interfaces:interface']['type'])"
   ]
  },
  {
   "cell_type": "code",
   "execution_count": 40,
   "id": "11d9ab1d",
   "metadata": {},
   "outputs": [
    {
     "name": "stdout",
     "output_type": "stream",
     "text": [
      "http://192.168.1.101/restconf/api/running/interfaces/interface/GigabitEthernet3\n"
     ]
    }
   ],
   "source": [
    "g_03 = BASE_URL + 'interfaces/interface/GigabitEthernet3'\n",
    "print(g_03)"
   ]
  },
  {
   "cell_type": "code",
   "execution_count": 41,
   "id": "f3bb9ea5",
   "metadata": {},
   "outputs": [],
   "source": [
    "headers = {\n",
    "'Accept': 'application/vnd.yang.data+json',\n",
    "'Content-Type': 'application/vnd.yang.data+json'\n",
    "}\n",
    "\n",
    "data = {\n",
    "            \"ietf-interfaces:interface\": {\n",
    "                \"name\": \"GigabitEthernet3\",\n",
    "                \"description\": \"Changed through Restconf\",\n",
    "                \"type\": \"iana-if-type:ethernetCsmacd\",\n",
    "                \"enabled\": 'true',\n",
    "                \"ietf-ip:ipv4\": {\n",
    "                    \"address\": [\n",
    "                        {\n",
    "                            \"ip\": \"10.0.10.3\",\n",
    "                            \"netmask\": \"255.255.255.0\"\n",
    "                        }\n",
    "                    ]\n",
    "                },\n",
    "                \"ietf-ip:ipv6\": {}\n",
    "            }\n",
    "        }\n",
    "\n",
    "\n",
    "json_data = json.dumps(data)\n"
   ]
  },
  {
   "cell_type": "code",
   "execution_count": 43,
   "id": "0373d3fc",
   "metadata": {},
   "outputs": [],
   "source": [
    "response = requests.put(g_03, auth=auth, headers=headers, data=json_data)\n"
   ]
  },
  {
   "cell_type": "code",
   "execution_count": 44,
   "id": "b9713195",
   "metadata": {},
   "outputs": [
    {
     "data": {
      "text/plain": [
       "204"
      ]
     },
     "execution_count": 44,
     "metadata": {},
     "output_type": "execute_result"
    }
   ],
   "source": [
    "response.status_code"
   ]
  },
  {
   "cell_type": "code",
   "execution_count": 47,
   "id": "deb650a9",
   "metadata": {},
   "outputs": [
    {
     "data": {
      "text/plain": [
       "''"
      ]
     },
     "execution_count": 47,
     "metadata": {},
     "output_type": "execute_result"
    }
   ],
   "source": [
    "response.text"
   ]
  },
  {
   "cell_type": "code",
   "execution_count": 14,
   "id": "d718db9f",
   "metadata": {},
   "outputs": [],
   "source": [
    "g_01 = BASE_URL + 'interfaces-state/interface/GigabitEthernet3/type'\n",
    "auth = HTTPBasicAuth(USER, PASS)\n",
    "headers = {\n",
    "'Accept': 'application/vnd.yang.data+json',\n",
    "'Content-Type': 'application/vnd.yang.data+json'\n",
    "}\n",
    "response = requests.get(g_01, auth=auth, headers=headers)"
   ]
  },
  {
   "cell_type": "code",
   "execution_count": 15,
   "id": "d48c1cbc",
   "metadata": {},
   "outputs": [
    {
     "data": {
      "text/plain": [
       "''"
      ]
     },
     "execution_count": 15,
     "metadata": {},
     "output_type": "execute_result"
    }
   ],
   "source": [
    "response.text"
   ]
  },
  {
   "cell_type": "code",
   "execution_count": null,
   "id": "0a8fc319",
   "metadata": {},
   "outputs": [],
   "source": []
  }
 ],
 "metadata": {
  "kernelspec": {
   "display_name": "Python 3 (ipykernel)",
   "language": "python",
   "name": "python3"
  },
  "language_info": {
   "codemirror_mode": {
    "name": "ipython",
    "version": 3
   },
   "file_extension": ".py",
   "mimetype": "text/x-python",
   "name": "python",
   "nbconvert_exporter": "python",
   "pygments_lexer": "ipython3",
   "version": "3.8.10"
  }
 },
 "nbformat": 4,
 "nbformat_minor": 5
}
